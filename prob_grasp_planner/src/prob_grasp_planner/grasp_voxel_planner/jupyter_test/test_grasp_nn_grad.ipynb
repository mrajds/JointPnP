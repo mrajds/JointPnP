{
 "cells": [
  {
   "cell_type": "code",
   "execution_count": 1,
   "metadata": {},
   "outputs": [],
   "source": [
    "import numpy as np\n",
    "import tensorflow as tf\n",
    "import time\n",
    "import roslib.packages as rp\n",
    "pkg_path = rp.get_pkg_dir('prob_grasp_planner')\n",
    "import sys\n",
    "sys.path.append(pkg_path + '/src/grasp_active_learning')\n",
    "from grasp_success_network import GraspSuccessNetwork"
   ]
  },
  {
   "cell_type": "code",
   "execution_count": 2,
   "metadata": {},
   "outputs": [
    {
     "name": "stdout",
     "output_type": "stream",
     "text": [
      "\n",
      "WARNING: The TensorFlow contrib module will not be included in TensorFlow 2.0.\n",
      "For more information, please see:\n",
      "  * https://github.com/tensorflow/community/blob/master/rfcs/20180907-contrib-sunset.md\n",
      "  * https://github.com/tensorflow/addons\n",
      "If you depend on functionality not listed there, please file an issue.\n",
      "\n",
      "WARNING:tensorflow:From /usr/local/lib/python2.7/dist-packages/tensorflow/python/framework/op_def_library.py:263: colocate_with (from tensorflow.python.framework.ops) is deprecated and will be removed in a future version.\n",
      "Instructions for updating:\n",
      "Colocations handled automatically by placer.\n",
      "WARNING:tensorflow:From /home/qingkai/catkin_ws/src/prob_grasp_planner/src/voxel_ae/voxel_ae.py:30: batch_normalization (from tensorflow.python.layers.normalization) is deprecated and will be removed in a future version.\n",
      "Instructions for updating:\n",
      "Use keras.layers.batch_normalization instead.\n",
      "WARNING:tensorflow:From /usr/local/lib/python2.7/dist-packages/tensorflow/python/ops/math_ops.py:3066: to_int32 (from tensorflow.python.ops.math_ops) is deprecated and will be removed in a future version.\n",
      "Instructions for updating:\n",
      "Use tf.cast instead.\n"
     ]
    }
   ],
   "source": [
    "update_voxel_enc = False\n",
    "grasp_net = GraspSuccessNetwork(update_voxel_enc)\n",
    "is_train = False\n",
    "grasp_net.grasp_net_train_test(train_mode=is_train)\n",
    "config_grad = tf.gradients(grasp_net.grasp_net_res['suc_prob'], grasp_net.holder_config)\n",
    "\n",
    "init = tf.global_variables_initializer()\n",
    "saver = tf.train.Saver()\n",
    "tf.get_default_graph().finalize()"
   ]
  },
  {
   "cell_type": "code",
   "execution_count": 6,
   "metadata": {},
   "outputs": [
    {
     "name": "stdout",
     "output_type": "stream",
     "text": [
      "WARNING:tensorflow:From /usr/local/lib/python2.7/dist-packages/tensorflow/python/training/saver.py:1266: checkpoint_exists (from tensorflow.python.training.checkpoint_management) is deprecated and will be removed in a future version.\n",
      "Instructions for updating:\n",
      "Use standard file APIs to check for files with this prefix.\n",
      "INFO:tensorflow:Restoring parameters from /home/qingkai/catkin_ws/src/prob_grasp_planner/models/grasp_al_net/grasp_net_freeze_enc.ckpt\n"
     ]
    }
   ],
   "source": [
    "grasp_model_path = pkg_path + '/models/grasp_al_net/grasp_net_freeze_enc.ckpt'\n",
    "sess = tf.Session()\n",
    "saver.restore(sess, grasp_model_path)"
   ]
  },
  {
   "cell_type": "code",
   "execution_count": 23,
   "metadata": {},
   "outputs": [],
   "source": [
    "def pred_suc(sess, grasp_voxel_grid, grasp_config, grasp_obj_size):\n",
    "    feed_dict = {\n",
    "        grasp_net.voxel_ae.is_train: False,\n",
    "        grasp_net.voxel_ae.partial_voxel_grids: [grasp_voxel_grid],\n",
    "        grasp_net.is_train: False,\n",
    "        grasp_net.holder_config: [grasp_config],\n",
    "        grasp_net.holder_obj_size: [grasp_obj_size],\n",
    " }\n",
    "    [suc_prob] = sess.run([grasp_net.grasp_net_res['suc_prob']], feed_dict=feed_dict)\n",
    "    return suc_prob[0][0]\n"
   ]
  },
  {
   "cell_type": "code",
   "execution_count": 37,
   "metadata": {},
   "outputs": [],
   "source": [
    "def compute_config_grad(sess, grasp_voxel_grid, grasp_config, grasp_obj_size):\n",
    "    feed_dict = {\n",
    "        grasp_net.voxel_ae.is_train: False,\n",
    "        grasp_net.voxel_ae.partial_voxel_grids: [grasp_voxel_grid],\n",
    "        grasp_net.is_train: False,\n",
    "        grasp_net.holder_config: [grasp_config],\n",
    "        grasp_net.holder_obj_size: [grasp_obj_size],\n",
    " }\n",
    "    [suc_prob, config_gradient] = sess.run([grasp_net.grasp_net_res['suc_prob'], config_grad], feed_dict=feed_dict)\n",
    "    return config_gradient[0][0], suc_prob[0][0]"
   ]
  },
  {
   "cell_type": "code",
   "execution_count": 39,
   "metadata": {},
   "outputs": [],
   "source": [
    "    def compute_num_grad(func, sess, grasp_voxel_grid, grasp_config, grasp_obj_size):\n",
    "        eps = 10**-4\n",
    "        grad = np.zeros(len(grasp_config))\n",
    "        for i in xrange(len(grasp_config)):\n",
    "            grasp_config_plus = np.copy(grasp_config)\n",
    "            grasp_config_plus[i] += eps\n",
    "            obj_prob_plus = func(sess, grasp_voxel_grid, grasp_config_plus, grasp_obj_size)\n",
    "            grasp_config_minus = np.copy(grasp_config)\n",
    "            grasp_config_minus[i] -= eps\n",
    "            obj_prob_minus = func(sess, grasp_voxel_grid, grasp_config_minus, grasp_obj_size)\n",
    "            #print 'grasp_config_plus:', grasp_config_plus\n",
    "            #print 'grasp_config_minus:', grasp_config_minus\n",
    "            #print 'obj_prob_plus:', obj_prob_plus\n",
    "            #print 'obj_prob_minus:', obj_prob_minus\n",
    "            ith_grad = (obj_prob_plus - obj_prob_minus) / (2. * eps)\n",
    "            grad[i] = ith_grad\n",
    "        return grad\n"
   ]
  },
  {
   "cell_type": "code",
   "execution_count": 41,
   "metadata": {},
   "outputs": [
    {
     "name": "stdout",
     "output_type": "stream",
     "text": [
      "1.1754088e-10\n",
      "[ 2.2110175e-10 -3.0834807e-10 -1.3220501e-10 -1.2286608e-10\n",
      "  1.7196557e-10  1.7203154e-10  2.2509415e-10  2.7675262e-10\n",
      "  8.7007172e-11  4.5518520e-11 -3.3434464e-11 -5.6859809e-11\n",
      "  8.5369704e-11  3.4791104e-11] 1.1754088e-10\n",
      "[ 2.20795604e-10 -3.08295056e-10 -1.32255318e-10 -1.23304145e-10\n",
      "  1.72639680e-10  1.72639680e-10  2.24126273e-10  2.75751644e-10\n",
      "  8.63198402e-11  4.71150896e-11 -3.24740235e-11 -5.82867088e-11\n",
      "  8.40993941e-11  3.46944695e-11]\n",
      "config_gradient: [ 2.2110175e-10 -3.0834807e-10 -1.3220501e-10 -1.2286608e-10\n",
      "  1.7196557e-10  1.7203154e-10  2.2509415e-10  2.7675262e-10\n",
      "  8.7007172e-11  4.5518520e-11 -3.3434464e-11 -5.6859809e-11\n",
      "  8.5369704e-11  3.4791104e-11]\n",
      "config_num_grad: [ 2.20795604e-10 -3.08295056e-10 -1.32255318e-10 -1.23304145e-10\n",
      "  1.72639680e-10  1.72639680e-10  2.24126273e-10  2.75751644e-10\n",
      "  8.63198402e-11  4.71150896e-11 -3.24740235e-11 -5.82867088e-11\n",
      "  8.40993941e-11  3.46944695e-11]\n",
      "Gradient difference: [ 3.06143999e-13 -5.30131494e-14  5.03069808e-14  4.38066250e-13\n",
      " -6.74113543e-13 -6.08138540e-13  9.67878555e-13  1.00097708e-12\n",
      "  6.87332136e-13 -1.59657010e-12 -9.60440061e-13  1.42690026e-12\n",
      "  1.27031025e-12  9.66345060e-14]\n",
      "Gradient difference abs mean: 7.240589576319932e-13\n",
      "Gradient difference abs mean percentage: 0.00513687312918258\n"
     ]
    }
   ],
   "source": [
    "\n",
    "\n",
    "grasp_voxel_grid = 0.5 * np.ones((32, 32, 32, 1))\n",
    "grasp_config = 0.5 * np.ones(14)\n",
    "grasp_obj_size = [0.1, 0.1, 0.1]\n",
    "suc_prob = pred_suc(sess, grasp_voxel_grid, grasp_config, grasp_obj_size)\n",
    "print suc_prob\n",
    "config_gradient, suc_prob = compute_config_grad(sess, grasp_voxel_grid, grasp_config, grasp_obj_size)\n",
    "print config_gradient, suc_prob\n",
    "config_num_grad = compute_num_grad(pred_suc, sess, grasp_voxel_grid, grasp_config, grasp_obj_size)\n",
    "print config_num_grad\n",
    "grad_diff = config_gradient - config_num_grad\n",
    "print 'config_gradient:', config_gradient\n",
    "print 'config_num_grad:', config_num_grad\n",
    "print 'Gradient difference:', grad_diff\n",
    "print 'Gradient difference abs mean:', np.mean(abs(grad_diff))\n",
    "print 'Gradient difference abs mean percentage:',  np.mean(abs(grad_diff)) / np.mean(abs(config_gradient))\n",
    "\n",
    "# grasp_net_test_freeze_path = '/home/qingkai/test_grasp_net/grasp_net_test_freeze.ckpt'\n",
    "# full_voxel = np.ones((1, 32, 32, 32, 1))\n",
    "# with tf.Session() as sess:\n",
    "#     sess.run(init)\n",
    "#     saver.restore(sess, grasp_net_test_freeze_path)"
   ]
  },
  {
   "cell_type": "code",
   "execution_count": null,
   "metadata": {},
   "outputs": [],
   "source": []
  }
 ],
 "metadata": {
  "kernelspec": {
   "display_name": "Python 2",
   "language": "python",
   "name": "python2"
  },
  "language_info": {
   "codemirror_mode": {
    "name": "ipython",
    "version": 2
   },
   "file_extension": ".py",
   "mimetype": "text/x-python",
   "name": "python",
   "nbconvert_exporter": "python",
   "pygments_lexer": "ipython2",
   "version": "2.7.12"
  }
 },
 "nbformat": 4,
 "nbformat_minor": 2
}

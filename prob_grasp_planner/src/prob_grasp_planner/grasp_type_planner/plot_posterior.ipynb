{
 "cells": [
  {
   "cell_type": "code",
   "execution_count": 1,
   "metadata": {},
   "outputs": [],
   "source": [
    "import numpy as np\n",
    "import time\n",
    "from sklearn import mixture\n",
    "from sklearn import neighbors, linear_model\n",
    "#import matplotlib\n",
    "#matplotlib.use('Agg')\n",
    "import matplotlib.pyplot as plt\n",
    "from scipy.stats import multivariate_normal"
   ]
  },
  {
   "cell_type": "code",
   "execution_count": 2,
   "metadata": {},
   "outputs": [],
   "source": [
    "data_num = 50\n",
    "suc_data_mean = 2.\n",
    "suc_data_covar = 1.\n",
    "suc_grasp_configs = np.random.normal(suc_data_mean, suc_data_covar, data_num)\n",
    "fail_data_mean = -2.\n",
    "fail_data_covar = 1.\n",
    "fail_grasp_configs = np.random.normal(fail_data_mean, fail_data_covar, data_num)\n",
    "\n",
    "suc_grasp_labels = np.ones(data_num)\n",
    "fail_grasp_labels = np.zeros(data_num)\n",
    "\n",
    "grasp_configs = np.concatenate((suc_grasp_configs, fail_grasp_configs))\n",
    "grasp_labels = np.concatenate((suc_grasp_labels, fail_grasp_labels))"
   ]
  },
  {
   "cell_type": "code",
   "execution_count": 3,
   "metadata": {},
   "outputs": [
    {
     "name": "stdout",
     "output_type": "stream",
     "text": [
      "(100, 1) (100,)\n",
      "[[2.44688984]]\n",
      "[0.04871846]\n",
      "[6]\n"
     ]
    },
    {
     "name": "stderr",
     "output_type": "stream",
     "text": [
      "/usr/local/lib/python2.7/dist-packages/sklearn/linear_model/logistic.py:433: FutureWarning: Default solver will be changed to 'lbfgs' in 0.22. Specify a solver to silence this warning.\n",
      "  FutureWarning)\n"
     ]
    },
    {
     "data": {
      "text/plain": [
       "98"
      ]
     },
     "execution_count": 3,
     "metadata": {},
     "output_type": "execute_result"
    }
   ],
   "source": [
    "grasp_configs = np.expand_dims(grasp_configs, axis=1)\n",
    "print grasp_configs.shape, grasp_labels.shape\n",
    "logistic = linear_model.LogisticRegression()\n",
    "logistic.fit(grasp_configs, grasp_labels)\n",
    "print logistic.coef_\n",
    "print logistic.intercept_\n",
    "print logistic.n_iter_\n",
    "pred_train = logistic.predict(grasp_configs)\n",
    "np.sum((pred_train > 0.5) == grasp_labels)"
   ]
  },
  {
   "cell_type": "code",
   "execution_count": 4,
   "metadata": {},
   "outputs": [
    {
     "data": {
      "text/plain": [
       "GaussianMixture(covariance_type='full', init_params='kmeans', max_iter=100,\n",
       "        means_init=None, n_components=2, n_init=5, precisions_init=None,\n",
       "        random_state=0, reg_covar=1e-06, tol=0.001, verbose=0,\n",
       "        verbose_interval=10, warm_start=False, weights_init=None)"
      ]
     },
     "execution_count": 4,
     "metadata": {},
     "output_type": "execute_result"
    }
   ],
   "source": [
    "num_components = 2\n",
    "g = mixture.GaussianMixture(n_components=num_components, covariance_type='full', \n",
    "        random_state=0, init_params='kmeans', n_init=5)\n",
    "g.fit(grasp_configs)\n",
    "#pred_prob = g.predict_proba(grasp_configs)\n",
    "#print pred_prob\n",
    "#print g.score_samples(grasp_configs)"
   ]
  },
  {
   "cell_type": "code",
   "execution_count": 14,
   "metadata": {
    "scrolled": true
   },
   "outputs": [
    {
     "name": "stdout",
     "output_type": "stream",
     "text": [
      "(1000,)\n"
     ]
    },
    {
     "data": {
      "text/plain": [
       "<Figure size 432x288 with 0 Axes>"
      ]
     },
     "metadata": {},
     "output_type": "display_data"
    },
    {
     "data": {
      "image/png": "[encoded data removed]",
      "text/plain": [
       "<Figure size 432x288 with 1 Axes>"
      ]
     },
     "metadata": {
      "needs_background": "light"
     },
     "output_type": "display_data"
    }
   ],
   "source": [
    "configs_raw = np.arange(-5., 5., 0.01)\n",
    "configs = np.expand_dims(configs_raw, axis=1)\n",
    "pred_suc_prob = logistic.predict_proba(configs)[:, 1]\n",
    "#pred_prior_prob = g.predict_proba(configs)\n",
    "#print pred_suc_prob.shape, pred_prior_prob.shape\n",
    "\n",
    "log_prior = g.score_samples(configs)\n",
    "print log_prior.shape\n",
    "prior = np.exp(log_prior)\n",
    "\n",
    "posterior = pred_suc_prob * prior\n",
    "\n",
    "plt.clf()\n",
    "plt.figure()\n",
    "axes = plt.gca()\n",
    "axes.set_ylim([0, 1])\n",
    "plt.plot(configs_raw, pred_suc_prob, 'r--')\n",
    "plt.plot(configs_raw, prior, 'g:')\n",
    "plt.plot(configs_raw, 2*posterior, 'b')\n",
    "plt.xlabel('$\\\\theta$')\n",
    "plt.ylabel('Probability Density')\n",
    "plt.title('Grasp Success 1D Example')\n",
    "# plt.legend(('Likelihood', 'Prior', 'Posterior'),\n",
    "#            loc='upper left')\n",
    "\n",
    "# plt.plot(suc_grasp_configs, np.zeros(len(suc_grasp_configs)),'mx', alpha=0.3)\n",
    "# plt.plot(fail_grasp_configs, np.zeros(len(fail_grasp_configs)), 'cx', alpha=0.3)\n",
    "\n",
    "# plt.legend(('Likelihood', 'Positive Samples', 'Negative Samples'),\n",
    "#            loc='upper left')\n",
    "# plt.legend(('Prior', 'Positive Samples', 'Negative Samples'),\n",
    "#            loc='upper left')\n",
    "plt.show()"
   ]
  },
  {
   "cell_type": "code",
   "execution_count": null,
   "metadata": {},
   "outputs": [],
   "source": []
  }
 ],
 "metadata": {
  "kernelspec": {
   "display_name": "Python 2",
   "language": "python",
   "name": "python2"
  },
  "language_info": {
   "codemirror_mode": {
    "name": "ipython",
    "version": 2
   },
   "file_extension": ".py",
   "mimetype": "text/x-python",
   "name": "python",
   "nbconvert_exporter": "python",
   "pygments_lexer": "ipython2",
   "version": "2.7.12"
  }
 },
 "nbformat": 4,
 "nbformat_minor": 2
}

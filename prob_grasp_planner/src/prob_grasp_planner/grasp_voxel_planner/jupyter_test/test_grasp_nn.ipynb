{
 "cells": [
  {
   "cell_type": "code",
   "execution_count": null,
   "metadata": {},
   "outputs": [],
   "source": [
    "import numpy as np\n",
    "import tensorflow as tf\n",
    "import time\n",
    "import roslib.packages as rp\n",
    "pkg_path = rp.get_pkg_dir('prob_grasp_planner')\n",
    "import sys\n",
    "sys.path.append(pkg_path + '/src/grasp_active_learning')\n",
    "from grasp_success_network import GraspSuccessNetwork"
   ]
  },
  {
   "cell_type": "code",
   "execution_count": null,
   "metadata": {},
   "outputs": [],
   "source": [
    "update_voxel_enc = False\n",
    "grasp_net = GraspSuccessNetwork(update_voxel_enc)\n",
    "is_train = True\n",
    "grasp_net.grasp_net_train_test(train_mode=is_train)\n",
    "#grasp_net.build_grasp_network()\n",
    "#grasp_net.voxel_ae.build_voxel_ae()"
   ]
  },
  {
   "cell_type": "code",
   "execution_count": null,
   "metadata": {},
   "outputs": [],
   "source": [
    "init = tf.global_variables_initializer()\n",
    "ae_saver = tf.train.Saver(tf.get_collection(tf.GraphKeys.GLOBAL_VARIABLES, 'voxel_ae'))\n",
    "#bn_saver = tf.train.Saver(tf.get_collection(tf.GraphKeys.GLOBAL_VARIABLES, 'batch_normalization'))\n",
    "#saver_global = tf.train.Saver(tf.get_collection(tf.GraphKeys.GLOBAL_VARIABLES))\n",
    "saver = tf.train.Saver()\n",
    "# ae_bn_vars = tf.get_collection(tf.GraphKeys.GLOBAL_VARIABLES, 'voxel_ae') + \\\n",
    "#                 tf.get_collection(tf.GraphKeys.GLOBAL_VARIABLES, 'batch_normalization')\n",
    "#ae_bn_saver = tf.train.Saver(ae_bn_vars)\n",
    "#grasp_ae_saver = tf.train.Saver(grasp_net.voxel_ae_vars)\n",
    "tf.get_default_graph().finalize()"
   ]
  },
  {
   "cell_type": "code",
   "execution_count": null,
   "metadata": {},
   "outputs": [],
   "source": [
    "voxel_ae_path = pkg_path + '/models/voxel_ae/voxel_vae_ae_aug.ckpt'\n",
    "# full_voxel = np.ones((2, 32, 32, 32, 1))\n",
    "# config_test = np.ones((2, 14))\n",
    "# labels_test = np.ones((2, 1))\n",
    "voxel_test = [np.ones((32, 32, 32, 1)), 0.1 * np.ones((32, 32, 32, 1))]\n",
    "config_test = [np.ones(14), 0.1 * np.ones(14)] \n",
    "labels_test = [[1], [0]]\n",
    "learning_rate = 0.001\n",
    "logs_path_train = '/home/qingkai/tf_logs/grasp_net_test'\n",
    "grasp_net_test_freeze_path = '/home/qingkai/test_grasp_net/grasp_net_test_freeze.ckpt'\n",
    "#grasp_net_test_update_path = '/home/qingkai/test_grasp_net/grasp_net_test_update.ckpt'\n",
    "summary_writer = tf.summary.FileWriter(logs_path_train, graph=tf.get_default_graph())\n",
    "\n",
    "with tf.Session() as sess:\n",
    "    sess.run(init)\n",
    "    ae_saver.restore(sess, voxel_ae_path)\n",
    "    for iter_num in xrange(100):\n",
    "        # Don't need to feed the learning rate of voxel ae, \n",
    "        # since only the optimizer in grasp_network is used.\n",
    "        feed_dict = {grasp_net.voxel_ae.is_train: (is_train and update_voxel_enc),\n",
    "                    grasp_net.voxel_ae.holder_voxel_grids: voxel_test,\n",
    "                    grasp_net.is_train: is_train,\n",
    "                    grasp_net.holder_config: config_test,\n",
    "                    grasp_net.holder_labels: labels_test,\n",
    "                    grasp_net.learning_rate: learning_rate,\n",
    "                    }\n",
    "        [suc_prob, loss, _, train_summary] = \\\n",
    "                                            sess.run([grasp_net.grasp_net_res['suc_prob'], \n",
    "                                                    #grasp_net.grasp_net_res['voxel_config_concat'],\n",
    "                                                    grasp_net.grasp_net_res['loss'],\n",
    "                                                    grasp_net.grasp_net_res['opt_loss'],\n",
    "                                                    grasp_net.grasp_net_res['train_summary'], ],\n",
    "                                                    feed_dict=feed_dict)\n",
    "        summary_writer.add_summary(train_summary, iter_num)\n",
    "        print suc_prob\n",
    "        print loss\n",
    "    saver.save(sess, grasp_net_test_freeze_path)\n",
    "    #saver.save(sess, grasp_net_test_update_path)\n"
   ]
  },
  {
   "cell_type": "code",
   "execution_count": null,
   "metadata": {},
   "outputs": [],
   "source": [
    "voxel_ae_path = pkg_path + '/models/voxel_ae/voxel_vae_ae_aug.ckpt'\n",
    "full_voxel = np.ones((1, 32, 32, 32, 1))\n",
    "with tf.Session() as sess:\n",
    "    sess.run(init)\n",
    "    ae_saver.restore(sess, voxel_ae_path)\n",
    "    feed_dict = {grasp_net.voxel_ae.is_train: False,\n",
    "                grasp_net.voxel_ae.holder_voxel_grids: full_voxel,}\n",
    "    [embed_output] = sess.run([grasp_net.voxel_ae.ae_struct_res['embedding']],\n",
    "                             feed_dict=feed_dict)\n",
    "    print embed_output\n",
    "    print np.mean(embed_output)\n"
   ]
  },
  {
   "cell_type": "code",
   "execution_count": null,
   "metadata": {},
   "outputs": [],
   "source": [
    "grasp_net_test_freeze_path = '/home/qingkai/test_grasp_net/grasp_net_test_freeze.ckpt'\n",
    "full_voxel = np.ones((1, 32, 32, 32, 1))\n",
    "with tf.Session() as sess:\n",
    "    sess.run(init)\n",
    "    saver.restore(sess, grasp_net_test_freeze_path)\n",
    "    feed_dict = {grasp_net.voxel_ae.is_train: False,\n",
    "                grasp_net.voxel_ae.holder_voxel_grids: full_voxel,}\n",
    "    [embed_output] = sess.run([grasp_net.voxel_ae.ae_struct_res['embedding']],\n",
    "                             feed_dict=feed_dict)\n",
    "    print embed_output\n",
    "    print np.mean(embed_output)"
   ]
  },
  {
   "cell_type": "code",
   "execution_count": null,
   "metadata": {},
   "outputs": [],
   "source": [
    "grasp_net_test_update_path = '/home/qingkai/test_grasp_net/grasp_net_test_update.ckpt'\n",
    "full_voxel = np.ones((1, 32, 32, 32, 1))\n",
    "with tf.Session() as sess:\n",
    "    sess.run(init)\n",
    "    saver.restore(sess, grasp_net_test_update_path)\n",
    "    feed_dict = {grasp_net.voxel_ae.is_train: False,\n",
    "                grasp_net.voxel_ae.holder_voxel_grids: full_voxel,}\n",
    "    [embed_output] = sess.run([grasp_net.voxel_ae.ae_struct_res['embedding']],\n",
    "                             feed_dict=feed_dict)\n",
    "    print embed_output\n",
    "    print np.mean(embed_output)"
   ]
  },
  {
   "cell_type": "code",
   "execution_count": null,
   "metadata": {},
   "outputs": [],
   "source": [
    "# voxel_ae_path = pkg_path + '/models/voxel_ae/voxel_vae_ae_aug.ckpt'\n",
    "# full_voxel = np.ones((1, 32, 32, 32, 1))\n",
    "# grasp_net_test_path = './grasp_net_test.ckpt'\n",
    "    \n",
    "# with tf.Session() as sess:\n",
    "#     sess.run(init)\n",
    "# #     ae_saver.restore(sess, voxel_ae_path)\n",
    "# #     bn_saver.restore(sess, voxel_ae_path)\n",
    "# #     ae_bn_saver.restore(sess, voxel_ae_path)\n",
    "# #    saver.restore(sess, voxel_ae_path)\n",
    "\n",
    "#     grasp_ae_saver.restore(sess, voxel_ae_path)\n",
    "#     feed_dict = {grasp_net.voxel_ae.is_train: False,\n",
    "#                 grasp_net.voxel_ae.holder_voxel_grids: full_voxel,}\n",
    "#     [embed_output] = sess.run([grasp_net.voxel_ae.ae_struct_res['embedding']],\n",
    "#                              feed_dict=feed_dict)\n",
    "#     print embed_output\n",
    "#     print np.mean(embed_output)\n",
    "    \n",
    "#     ae_saver.restore(sess, voxel_ae_path)\n",
    "#     feed_dict = {grasp_net.voxel_ae.is_train: False,\n",
    "#                 grasp_net.voxel_ae.holder_voxel_grids: full_voxel,}\n",
    "#     [embed_output] = sess.run([grasp_net.voxel_ae.ae_struct_res['embedding']],\n",
    "#                              feed_dict=feed_dict)\n",
    "#     print embed_output\n",
    "#     print np.mean(embed_output)\n",
    "    \n",
    "#     #saver.save(sess, grasp_net_test_path)\n",
    "# #    saver.restore(sess, grasp_net_test_path)\n",
    "# #     feed_dict = {grasp_net.voxel_ae.is_train: False,\n",
    "# #                 grasp_net.voxel_ae.holder_voxel_grids: full_voxel,}\n",
    "\n",
    "# #     [voxel_recons_output, embed_output] = sess.run([grasp_net.voxel_ae.ae_struct_res['voxel_reconstructed'],\n",
    "# #                                  grasp_net.voxel_ae.ae_struct_res['embedding']],\n",
    "# #                                  feed_dict=feed_dict)\n",
    "#     #print voxel_recons_output\n",
    "#     #print np.mean(voxel_recons_output)\n",
    "# #     [embed_output] = sess.run([grasp_net.voxel_ae.ae_struct_res['embedding']],\n",
    "# #                              feed_dict=feed_dict)\n",
    "# #     print embed_output\n",
    "# #     print np.mean(embed_output)"
   ]
  },
  {
   "cell_type": "code",
   "execution_count": null,
   "metadata": {},
   "outputs": [],
   "source": [
    "# var = tf.get_collection(tf.GraphKeys.GLOBAL_VARIABLES)\n",
    "# print len(var)\n",
    "# print tf.get_collection(tf.GraphKeys.GLOBAL_VARIABLES, 'voxel_ae')\n",
    "# print grasp_net.voxel_ae_vars"
   ]
  },
  {
   "cell_type": "code",
   "execution_count": null,
   "metadata": {},
   "outputs": [],
   "source": [
    "# var = tf.get_collection(tf.GraphKeys.GLOBAL_VARIABLES, 'voxel_ae')\n",
    "# print len(var)"
   ]
  },
  {
   "cell_type": "code",
   "execution_count": null,
   "metadata": {},
   "outputs": [],
   "source": [
    "# var = tf.get_collection(tf.GraphKeys.GLOBAL_VARIABLES, 'grasp_net')\n",
    "# print len(var)"
   ]
  },
  {
   "cell_type": "code",
   "execution_count": null,
   "metadata": {},
   "outputs": [],
   "source": [
    "tf.get_collection(tf.GraphKeys.GLOBAL_VARIABLES, 'grasp_net_loss')"
   ]
  },
  {
   "cell_type": "code",
   "execution_count": null,
   "metadata": {},
   "outputs": [],
   "source": [
    "tf.get_collection(tf.GraphKeys.GLOBAL_VARIABLES, 'grasp_net_loss/voxel_ae_enc_struct/batch_normalization/beta/Momentum')"
   ]
  },
  {
   "cell_type": "code",
   "execution_count": null,
   "metadata": {},
   "outputs": [],
   "source": []
  }
 ],
 "metadata": {
  "kernelspec": {
   "display_name": "Python 2",
   "language": "python",
   "name": "python2"
  },
  "language_info": {
   "codemirror_mode": {
    "name": "ipython",
    "version": 2
   },
   "file_extension": ".py",
   "mimetype": "text/x-python",
   "name": "python",
   "nbconvert_exporter": "python",
   "pygments_lexer": "ipython2",
   "version": "2.7.12"
  }
 },
 "nbformat": 4,
 "nbformat_minor": 2
}

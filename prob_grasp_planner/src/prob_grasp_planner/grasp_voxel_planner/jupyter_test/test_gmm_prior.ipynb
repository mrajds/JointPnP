{
 "cells": [
  {
   "cell_type": "code",
   "execution_count": 1,
   "metadata": {},
   "outputs": [],
   "source": [
    "import numpy as np\n",
    "from sklearn import mixture"
   ]
  },
  {
   "cell_type": "code",
   "execution_count": 6,
   "metadata": {},
   "outputs": [
    {
     "data": {
      "text/plain": [
       "GaussianMixture(covariance_type='full', init_params='random', max_iter=100,\n",
       "        means_init=None, n_components=3, n_init=5, precisions_init=None,\n",
       "        random_state=0, reg_covar=1e-06, tol=0.001, verbose=0,\n",
       "        verbose_interval=10, warm_start=False, weights_init=None)"
      ]
     },
     "execution_count": 6,
     "metadata": {},
     "output_type": "execute_result"
    }
   ],
   "source": [
    "g = mixture.GaussianMixture(n_components=3, covariance_type='full',\n",
    "                             random_state=0, init_params='random', n_init=5) #'kmeans')\n",
    "data = np.random.rand(10000, 14)\n",
    "g.fit(data)\n"
   ]
  },
  {
   "cell_type": "code",
   "execution_count": 7,
   "metadata": {},
   "outputs": [
    {
     "name": "stdout",
     "output_type": "stream",
     "text": [
      "[[0.32239039 0.3208235  0.35678611]\n",
      " [0.34832858 0.30890007 0.34277135]\n",
      " [0.31824482 0.35278807 0.32896712]\n",
      " ...\n",
      " [0.28850528 0.33649306 0.37500166]\n",
      " [0.30110068 0.33293341 0.36596592]\n",
      " [0.3574302  0.31462541 0.32794439]]\n"
     ]
    }
   ],
   "source": [
    "prob = g.predict_proba(data)\n",
    "print prob"
   ]
  },
  {
   "cell_type": "code",
   "execution_count": null,
   "metadata": {},
   "outputs": [],
   "source": []
  }
 ],
 "metadata": {
  "kernelspec": {
   "display_name": "Python 2",
   "language": "python",
   "name": "python2"
  },
  "language_info": {
   "codemirror_mode": {
    "name": "ipython",
    "version": 2
   },
   "file_extension": ".py",
   "mimetype": "text/x-python",
   "name": "python",
   "nbconvert_exporter": "python",
   "pygments_lexer": "ipython2",
   "version": "2.7.12"
  }
 },
 "nbformat": 4,
 "nbformat_minor": 2
}
